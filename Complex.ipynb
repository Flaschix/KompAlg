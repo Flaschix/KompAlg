{
  "nbformat": 4,
  "nbformat_minor": 0,
  "metadata": {
    "colab": {
      "provenance": [],
      "authorship_tag": "ABX9TyMwbquook0S/IGNGaD6iweS",
      "include_colab_link": true
    },
    "kernelspec": {
      "name": "python3",
      "display_name": "Python 3"
    },
    "language_info": {
      "name": "python"
    }
  },
  "cells": [
    {
      "cell_type": "markdown",
      "metadata": {
        "id": "view-in-github",
        "colab_type": "text"
      },
      "source": [
        "<a href=\"https://colab.research.google.com/github/Flaschix/KompAlg/blob/main/Complex.ipynb\" target=\"_parent\"><img src=\"https://colab.research.google.com/assets/colab-badge.svg\" alt=\"Open In Colab\"/></a>"
      ]
    },
    {
      "cell_type": "code",
      "execution_count": 38,
      "metadata": {
        "id": "f-2CLeuvwg4l"
      },
      "outputs": [],
      "source": [
        "from IPython.display import display, Math\n",
        "from math import sqrt, atan, pi\n",
        "class Complex:\n",
        "  def __init__(self, real = 0, image = 0):\n",
        "    self.real = real\n",
        "    self.image = image\n",
        "  def __str__(self):\n",
        "    if self.image > 0:\n",
        "      return f\"({self.real}, i{self.image})\"\n",
        "    elif self.image < 0:\n",
        "      return f\"({self.real}, -i{abs(self.image)})\"\n",
        "    else:\n",
        "      return f\"{self.real}\"\n",
        "  def sqrt(self):\n",
        "    return(sqrt(self.real * self.real + self.image * self.image))\n",
        "  def arg(self):\n",
        "    if self.real > 0:\n",
        "      return atan(self.image / self.real)\n",
        "    else:\n",
        "      return atan(self.image / self.real) + pi\n",
        "  def __add__(self, q):\n",
        "    return Complex(self.real + q.real, self.image + q.image)\n",
        "  def __sub__(self, q):\n",
        "    return Complex(self.real - q.real, self.image - q.image)\n",
        "  def __mul__(self,q):\n",
        "    return Complex(self.real*q.real - self.image*q.image, self.real*q.image + q.real*self.image)\n",
        "  def __truediv__(self, q):\n",
        "    m = q.real * q.real + q.iamge * q.iamge\n",
        "    n1 = self.real * q.real + self.image * q.image\n",
        "    n2 = q.real*self.image - self.real*q.image\n",
        "    return Complex(n1/m, n2/m)"
      ]
    },
    {
      "cell_type": "code",
      "source": [
        "a = Complex(3, -3)\n",
        "print(a)\n",
        "print(a.sqrt())\n",
        "print(a.arg())"
      ],
      "metadata": {
        "colab": {
          "base_uri": "https://localhost:8080/"
        },
        "id": "3pHrdbOt0_Vy",
        "outputId": "fa115935-1efe-4ee5-d9ee-4b642ba690bf"
      },
      "execution_count": 39,
      "outputs": [
        {
          "output_type": "stream",
          "name": "stdout",
          "text": [
            "(3, -i3)\n",
            "4.242640687119285\n",
            "-0.7853981633974483\n"
          ]
        }
      ]
    }
  ]
}