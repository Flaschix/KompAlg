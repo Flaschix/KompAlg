{
  "nbformat": 4,
  "nbformat_minor": 0,
  "metadata": {
    "colab": {
      "provenance": [],
      "authorship_tag": "ABX9TyNNF6GLc7tFSFs1Hb+Cu6Or",
      "include_colab_link": true
    },
    "kernelspec": {
      "name": "python3",
      "display_name": "Python 3"
    },
    "language_info": {
      "name": "python"
    }
  },
  "cells": [
    {
      "cell_type": "markdown",
      "metadata": {
        "id": "view-in-github",
        "colab_type": "text"
      },
      "source": [
        "<a href=\"https://colab.research.google.com/github/Flaschix/KompAlg/blob/main/Expression.ipynb\" target=\"_parent\"><img src=\"https://colab.research.google.com/assets/colab-badge.svg\" alt=\"Open In Colab\"/></a>"
      ]
    },
    {
      "cell_type": "code",
      "execution_count": 127,
      "metadata": {
        "id": "_pC_HFmXY42G"
      },
      "outputs": [],
      "source": [
        "from IPython.display import display, Math\n",
        "import numpy as np\n",
        "import matplotlib\n",
        "import matplotlib.pyplot as plt\n",
        "import math\n",
        "\n",
        "def add(x, y): return ['+', x, y]\n",
        "def sub(x, y): return ['-', x, y]\n",
        "def mul(x, y): return ['*', x, y]\n",
        "def div(x, y): return ['/', x, y]\n",
        "def power(x, y): return ['^', x, y]\n",
        "def negative(x): return ['~', x]\n",
        "def sin_(x): return ['sin', x]\n",
        "def cos_(x): return ['cos', x]\n",
        "def tg_(x): return ['tg', x]\n",
        "def ctg_(x): return ['ctg', x]\n",
        "def asin_(x): return ['asin', x]\n",
        "def acos_(x): return ['acos', x]\n",
        "def atg_(x): return ['atg', x]\n",
        "def actg_(x): return ['actg', x]\n",
        "def sh_(x): return ['sh', x]\n",
        "def ch_(x): return ['ch', x]\n",
        "def th_(x): return ['th', x]\n",
        "def cth_(x): return ['cth', x]\n",
        "def ash_(x): return ['ash', x]\n",
        "def ach_(x): return ['ach', x]\n",
        "def ath_(x): return ['ath', x]\n",
        "def acth_(x): return ['acth', x]\n",
        "def sqrt_(x): return ['sqrt', x]\n",
        "def ln_(x): return ['ln', x]\n",
        "def lg_(x): return ['lg', x]\n",
        "def exp_(x): return ['exp', x]\n",
        "\n",
        "def fix(x):\n",
        "  if isinstance(x, Expression):\n",
        "    return x\n",
        "  return Expression(x)\n",
        "\n",
        "class Expression:\n",
        "  def __init__(self, x):\n",
        "    self.T = x\n",
        "  def __add__(self, x):\n",
        "    return Expression(add(self.T, fix(x).T))\n",
        "  def __radd__(self, x):\n",
        "    return Expression(add(fix(x).T, self.T))\n",
        "  def __sub__(self, x):\n",
        "    return Expression(sub(self.T, fix(x).T))\n",
        "  def __rsub__(self, x):\n",
        "    return Expression(sub(fix(x).T, self.T))\n",
        "  def __mul__(self, x):\n",
        "    return Expression(mul(self.T, fix(x).T))\n",
        "  def __rmul__(self, x):\n",
        "    return Expression(mul(fix(x).T, self.T))\n",
        "  def __truediv__(self, x):\n",
        "    return Expression(div(self.T, fix(x).T))\n",
        "  def __rtruediv__(self, x):\n",
        "    return Expression(div(fix(x).T, self.T))\n",
        "  def __pow__(self, x):\n",
        "    return Expression(power(self.T, fix(x).T))\n",
        "  def __rpow__(self, x):\n",
        "    return Expression(power(fix(x).T, self.T))\n",
        "  def __neg__(self):\n",
        "    return Expression(negative(self.T))  \n",
        "  \n",
        "def sin(x):\n",
        "  return Expression(sin_(fix(x).T))\n",
        "def cos(x):\n",
        "  return Expression(cos_(fix(x).T))\n",
        "def tg(x):\n",
        "  return Expression(tg_(fix(x).T))\n",
        "def ctg(x):\n",
        "  return Expression(ctg_(fix(x).T))\n",
        "def asin(x):\n",
        "  return Expression(asin_(fix(x).T))\n",
        "def acos(x):\n",
        "  return Expression(acos_(fix(x).T))\n",
        "def atg(x):\n",
        "  return Expression(atg_(fix(x).T))\n",
        "def actg(x):\n",
        "  return Expression(actg_(fix(x).T))\n",
        "def sh(x):\n",
        "  return Expression(sh_(fix(x).T))\n",
        "def ch(x):\n",
        "  return Expression(ch_(fix(x).T))\n",
        "def th(x):\n",
        "  return Expression(th_(fix(x).T))\n",
        "def cth(x):\n",
        "  return Expression(cth_(fix(x).T))\n",
        "def ash(x):\n",
        "  return Expression(ash_(fix(x).T))\n",
        "def ach(x):\n",
        "  return Expression(ach_(fix(x).T))\n",
        "def ath(x):\n",
        "  return Expression(ath_(fix(x).T))\n",
        "def acth(x):\n",
        "  return Expression(acth_(fix(x).T))\n",
        "def sqrt(x):\n",
        "  return Expression(sqrt_(fix(x).T))\n",
        "def ln(x):\n",
        "  return Expression(ln_(fix(x).T))\n",
        "def lg(x):\n",
        "  return Expression(lg_(fix(x).T))\n",
        "def exp(x):\n",
        "  return Expression(exp_(fix(x).T))\n",
        "\n",
        "\n",
        "def show(x):\n",
        "  display(Math(latex(x)))\n",
        "\n",
        "def enclose(x):\n",
        "  return f'\\\\left( {x} \\\\right)'\n",
        "\n",
        "def latex(x):\n",
        "  if isinstance(x, Expression):\n",
        "    return latex(x.T)\n",
        "\n",
        "  if isinstance(x, (int, str)):\n",
        "    return str(x)\n",
        "\n",
        "  op = x[0]\n",
        "  if op in '+-*/^':\n",
        "    l, r = latex(x[1]), latex(x[2])\n",
        "    if op == '+':\n",
        "      return f'{l} + {r}'\n",
        "    if op == '-':\n",
        "      return f'{l} - {r}'\n",
        "    if op == '*':\n",
        "      return f'{l} \\\\cdot {r}'\n",
        "    if op == '/':\n",
        "      return f'\\\\dfrac{{{l}}}{{{r}}}'\n",
        "    if op == '^':\n",
        "      if isinstance(x[1], list):\n",
        "        l = enclose(l)\n",
        "      return f'{{{l}}}^{{{r}}}'\n",
        "  else: \n",
        "    a = latex(x[1])\n",
        "    if op == '~':\n",
        "      return f'- {a}'\n",
        "    if op == 'sin':\n",
        "      return f'\\\\sin( {a} )'\n",
        "    if op == 'cos':\n",
        "      return f'\\\\cos( {a} )'\n",
        "    if op == 'tg':\n",
        "      return f'\\\\tan( {a} )'\n",
        "    if op == 'ctg':\n",
        "      return f'\\\\cot( {a} )'\n",
        "    if op == 'asin':\n",
        "      return f'\\\\arcsin( {a} )'\n",
        "    if op == 'acos':\n",
        "      return f'\\\\arccos( {a} )'\n",
        "    if op == 'atg':\n",
        "      return f'\\\\arctan( {a} )'\n",
        "    if op == 'actg':\n",
        "      return f'\\\\arccot( {a} )'\n",
        "    if op == 'sh':\n",
        "      return f'\\\\sinh( {a} )'\n",
        "    if op == 'ch':\n",
        "      return f'\\\\cosh( {a} )'\n",
        "    if op == 'th':\n",
        "      return f'\\\\tanh( {a} )'\n",
        "    if op == 'cth':\n",
        "      return f'\\\\coth( {a} )'\n",
        "    if op == 'ash':\n",
        "      return f'\\\\arsh( {a} )'\n",
        "    if op == 'ach':\n",
        "      return f'\\\\arch( {a} )'\n",
        "    if op == 'ath':\n",
        "      return f'\\\\arth( {a} )'\n",
        "    if op == 'acth':\n",
        "      return f'\\\\arcth( {a} )'\n",
        "    if op == 'sqrt':\n",
        "      return f'\\\\sqrt{{{a}}}'\n",
        "    if op == 'ln':\n",
        "      return f'\\\\ln({{{a}}}'\n",
        "    if op == 'lg':\n",
        "      return f'\\\\lg({{{a}}}'\n",
        "    if op == 'exp':\n",
        "      return f'e ^ {{{a}}}'\n",
        "\n",
        "\n",
        "def symbols(s):\n",
        "  S = s.split()\n",
        "  if len(S) == 1:\n",
        "    return Expression(s)\n",
        "  return (Expression(i) for i in S)\n",
        "\n",
        "\n",
        "def evalf(x, arg = {}):\n",
        "  if isinstance(x, Expression):\n",
        "    if isinstance(arg, dict):\n",
        "      arg = {i.T: arg[i] for i in arg}\n",
        "    else:\n",
        "      arg = {'$': arg}\n",
        "    return evalf(x.T, arg)\n",
        "\n",
        "  if isinstance(x, int):\n",
        "    return x\n",
        "\n",
        "  if isinstance(x, str):\n",
        "    if x in arg:\n",
        "      return arg[x]\n",
        "    return arg['$']\n",
        "\n",
        "  op = x[0]\n",
        "  if op in '+-*/^':\n",
        "    l, r = evalf(x[1], arg), evalf(x[2], arg)\n",
        "    if op == '+':\n",
        "      return l + r\n",
        "    if op == '-':\n",
        "      return l - r\n",
        "    if op == '*':\n",
        "      return l * r\n",
        "    if op == '/':\n",
        "      return l / r\n",
        "    if op == '^':\n",
        "      return l ** r\n",
        "  else:\n",
        "    a = evalf(x[1], arg)\n",
        "    if op == '~':\n",
        "      return - a\n",
        "    if op == 'sin':\n",
        "      return np.sin(a)\n",
        "    if op == 'cos':\n",
        "      return np.cos(a)\n",
        "    if op == 'tg':\n",
        "      return np.tan(a)\n",
        "    if op == 'ctg':\n",
        "      return 1/np.tan(a)\n",
        "    if op == 'asin':\n",
        "      return np.arcsin(a)\n",
        "    if op == 'acos':\n",
        "      return np.arccos(a)\n",
        "    if op == 'atg':\n",
        "      return np.arctan(a)\n",
        "    if op == 'actg':\n",
        "      return 1/np.arctan(a)\n",
        "    if op == 'sh':\n",
        "      return np.sinh(a)\n",
        "    if op == 'ch':\n",
        "      return np.cosh(a)\n",
        "    if op == 'th':\n",
        "      return np.tanh(a)\n",
        "    if op == 'cth':\n",
        "      return 1/np.tanh(a)\n",
        "    if op == 'ash':\n",
        "      return np.arcsinh(a)\n",
        "    if op == 'ach':\n",
        "      return np.arccosh(a)\n",
        "    if op == 'ath':\n",
        "      return np.arctanh(a)\n",
        "    if op == 'acth':\n",
        "      return 1/np.arctanh(a)\n",
        "    if op == 'sqrt':\n",
        "      return np.sqrt(a)\n",
        "    if op == 'ln':\n",
        "      return np.ln(a)\n",
        "    if op == 'lg':\n",
        "      return np.lg(a)\n",
        "    if op == 'exp':\n",
        "      return np.exp(a)\n",
        "  return None\n",
        "\n",
        "def plotDiffefent(F, G, t, t1, t2): \n",
        "  T = np.linspace(t1, t2, 1000) \n",
        "  X = evalf(F, {t: T}) \n",
        "  Y = evalf(G, {t: T}) \n",
        "  plt.plot(X, Y)\n",
        "  \n",
        "def plot(y, x):\n",
        "  X = np.linspace(x[1], x[2], 1000)\n",
        "  if isinstance(y.T, int):\n",
        "    Y = evalf(y) * np.ones(1000)\n",
        "  else:\n",
        "    Y = evalf(y, {x[0]: X})\n",
        "  plt.plot(X, Y)\n",
        "#///////////////////////////////////////\n",
        "def Z(x):\n",
        "  return Expression(x)\n",
        "\n",
        "def isInt(x):\n",
        "  return isinstance(x.T, int)\n",
        "\n",
        "def diff(y, x):\n",
        "  if isInt(y):\n",
        "    return Z(0)\n",
        "\n",
        "  if isinstance(y.T, str):\n",
        "    if y.T == x.T:\n",
        "      return Z(1)\n",
        "    return Z(0)\n",
        "\n",
        "  op = y.T[0] \n",
        "  if op in '+-*/^':\n",
        "    u, v = Expression(y.T[1]), Expression(y.T[2])\n",
        "    du, dv = diff(u, x), diff(v, x)\n",
        "    if op == '+':\n",
        "      return du + dv\n",
        "    if op == '-':\n",
        "      return du - dv\n",
        "    if op == '*':\n",
        "      if isInt(u): return u * dv # упрощение\n",
        "      if isInt(v): return du * v # упрощение\n",
        "      return du * v + u * dv\n",
        "    if op == '/':\n",
        "      if isInt(u): return - u * dv / v ** 2 # упрощение\n",
        "      if isInt(v): return du / v # упрощение\n",
        "      return (du * v - u * dv) / v ** 2\n",
        "    if op == '^':\n",
        "      if isInt(v): # u(x) ^ n\n",
        "        n = v.T\n",
        "        if n == 0:\n",
        "          return Z(0)\n",
        "        if n == 1:\n",
        "          return du\n",
        "        if du.T == 1: return n * u ** (n - 1) # упрощение\n",
        "        return n * u ** (n - 1) * du\n",
        "      if isInt(u): # n ^ v(x)\n",
        "        n = u.T\n",
        "        return ln(n) * (u ** v) * dv\n",
        "  else:\n",
        "    u = Expression(y.T[1])\n",
        "    du = diff(u, x)\n",
        "    if op == '~': return -du\n",
        "    if op == 'sin': return cos(u) * du\n",
        "    if op == 'cos': return -sin(u) * du\n",
        "    if op == 'sqrt': return du / (2 * sqrt(u))\n",
        "    if op == 'ln': return du / u\n",
        "    if op == 'exp': return exp(u) * du\n",
        "    if op == 'tg': return du / (cos(u)**2)\n",
        "    if op == 'ctg': return du / -(sin(u)**2)\n",
        "    if op == 'asin': return du / (sqrt(1 - u**2))\n",
        "    if op == 'acos': return du / -(sqrt(1 - u**2))\n",
        "    if op == 'atg': return du / (1 + u**2)\n",
        "    if op == 'actg': return du / -(1 + u**2)\n",
        "\n",
        "    if op == 'sh': return ch(u) * du\n",
        "    if op == 'ch': return sh(u) * du\n",
        "    if op == 'th': return du / (ch(u)**2)\n",
        "    if op == 'cth': return du / -(sh(u)**2)\n",
        "    if op == 'ash': return du / (sqrt(u**2 + 1))\n",
        "    if op == 'ach': return du / (sqrt(u**2 - 1))\n",
        "    if op == 'ath': return du / (1 - u**2)\n",
        "    if op == 'acth': return du / (1 - u**2)\n",
        "  \n",
        "  return None\n",
        "\n",
        "def Diff(y, x, n = 1):\n",
        "  dy = y\n",
        "  for i in range(n):\n",
        "    dy = diff(dy, x)\n",
        "  return dy"
      ]
    },
    {
      "cell_type": "code",
      "source": [
        "x = Expression('x') \n",
        "y = cos(x)\n",
        "z = sin(x)\n",
        "plotDiffefent(y, z, x, -5, 5)\n"
      ],
      "metadata": {
        "colab": {
          "base_uri": "https://localhost:8080/",
          "height": 265
        },
        "id": "pTrzZDtcbo3D",
        "outputId": "a0c5a5a3-46c0-48a3-face-d59782dd26f4"
      },
      "execution_count": 128,
      "outputs": [
        {
          "output_type": "display_data",
          "data": {
            "text/plain": [
              "<Figure size 432x288 with 1 Axes>"
            ],
            "image/png": "[encoded data removed]"
          },
          "metadata": {
            "needs_background": "light"
          }
        }
      ]
    },
    {
      "cell_type": "code",
      "source": [
        "show(diff(sin(2 * x) / cos(x), x))\n",
        "show(diff(atg(2*x),x))\n",
        "show(diff(th(2*x),x))\n",
        "\n",
        "show(diff(sh(2*x),x))\n",
        "show(diff(ach(2*x),x))"
      ],
      "metadata": {
        "id": "cNQHVXJ0v6jv",
        "outputId": "121aeb56-96ec-44b3-b4a3-b7b7ce8d4aa2",
        "colab": {
          "base_uri": "https://localhost:8080/",
          "height": 215
        }
      },
      "execution_count": 129,
      "outputs": [
        {
          "output_type": "display_data",
          "data": {
            "text/plain": [
              "<IPython.core.display.Math object>"
            ],
            "text/latex": "$\\displaystyle \\dfrac{\\cos( 2 \\cdot x ) \\cdot 2 \\cdot 1 \\cdot \\cos( x ) - \\sin( 2 \\cdot x ) \\cdot - \\sin( x ) \\cdot 1}{{\\left( \\cos( x ) \\right)}^{2}}$"
          },
          "metadata": {}
        },
        {
          "output_type": "display_data",
          "data": {
            "text/plain": [
              "<IPython.core.display.Math object>"
            ],
            "text/latex": "$\\displaystyle \\dfrac{2 \\cdot 1}{1 + {\\left( 2 \\cdot x \\right)}^{2}}$"
          },
          "metadata": {}
        },
        {
          "output_type": "display_data",
          "data": {
            "text/plain": [
              "<IPython.core.display.Math object>"
            ],
            "text/latex": "$\\displaystyle \\dfrac{2 \\cdot 1}{{\\left( \\cosh( 2 \\cdot x ) \\right)}^{2}}$"
          },
          "metadata": {}
        },
        {
          "output_type": "display_data",
          "data": {
            "text/plain": [
              "<IPython.core.display.Math object>"
            ],
            "text/latex": "$\\displaystyle \\cosh( 2 \\cdot x ) \\cdot 2 \\cdot 1$"
          },
          "metadata": {}
        },
        {
          "output_type": "display_data",
          "data": {
            "text/plain": [
              "<IPython.core.display.Math object>"
            ],
            "text/latex": "$\\displaystyle \\dfrac{2 \\cdot 1}{\\sqrt{{\\left( 2 \\cdot x \\right)}^{2} - 1}}$"
          },
          "metadata": {}
        }
      ]
    },
    {
      "cell_type": "code",
      "source": [
        "f = asin(x)\n",
        "show(diff(f, x))\n",
        "plot(Diff(f, x), (x, -2 * np.pi, 2 * np.pi))\n"
      ],
      "metadata": {
        "id": "J5GRjx3iwgIE",
        "outputId": "6a8ebb00-a4d1-40d2-9654-53cc7192b8e9",
        "colab": {
          "base_uri": "https://localhost:8080/",
          "height": 320
        }
      },
      "execution_count": 130,
      "outputs": [
        {
          "output_type": "display_data",
          "data": {
            "text/plain": [
              "<IPython.core.display.Math object>"
            ],
            "text/latex": "$\\displaystyle \\dfrac{1}{\\sqrt{1 - {x}^{2}}}$"
          },
          "metadata": {}
        },
        {
          "output_type": "stream",
          "name": "stderr",
          "text": [
            "/usr/local/lib/python3.7/dist-packages/ipykernel_launcher.py:254: RuntimeWarning: invalid value encountered in sqrt\n"
          ]
        },
        {
          "output_type": "display_data",
          "data": {
            "text/plain": [
              "<Figure size 432x288 with 1 Axes>"
            ],
            "image/png": "[encoded data removed]"
          },
          "metadata": {
            "needs_background": "light"
          }
        }
      ]
    },
    {
      "cell_type": "code",
      "source": [
        "f = ash(x)\n",
        "show(diff(f, x))\n",
        "plot(Diff(f, x), (x, -2 * np.pi, 2 * np.pi))"
      ],
      "metadata": {
        "id": "XWSgGzx6y7Ux",
        "outputId": "808eb74c-3c92-4f50-83a3-ad71307e6c15",
        "colab": {
          "base_uri": "https://localhost:8080/",
          "height": 303
        }
      },
      "execution_count": 131,
      "outputs": [
        {
          "output_type": "display_data",
          "data": {
            "text/plain": [
              "<IPython.core.display.Math object>"
            ],
            "text/latex": "$\\displaystyle \\dfrac{1}{\\sqrt{{x}^{2} + 1}}$"
          },
          "metadata": {}
        },
        {
          "output_type": "display_data",
          "data": {
            "text/plain": [
              "<Figure size 432x288 with 1 Axes>"
            ],
            "image/png": "[encoded data removed]"
          },
          "metadata": {
            "needs_background": "light"
          }
        }
      ]
    }
  ]
}