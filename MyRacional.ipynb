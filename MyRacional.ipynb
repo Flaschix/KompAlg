{
  "nbformat": 4,
  "nbformat_minor": 0,
  "metadata": {
    "colab": {
      "provenance": [],
      "authorship_tag": "ABX9TyP0x0wlOOYw6wo/IPkkwp6d",
      "include_colab_link": true
    },
    "kernelspec": {
      "name": "python3",
      "display_name": "Python 3"
    },
    "language_info": {
      "name": "python"
    }
  },
  "cells": [
    {
      "cell_type": "markdown",
      "metadata": {
        "id": "view-in-github",
        "colab_type": "text"
      },
      "source": [
        "<a href=\"https://colab.research.google.com/github/Flaschix/KompAlg/blob/main/MyRacional.ipynb\" target=\"_parent\"><img src=\"https://colab.research.google.com/assets/colab-badge.svg\" alt=\"Open In Colab\"/></a>"
      ]
    },
    {
      "cell_type": "code",
      "execution_count": 29,
      "metadata": {
        "id": "9t58YzPTMWEj"
      },
      "outputs": [],
      "source": [
        "from IPython.display import display, Math\n",
        "class Rational:\n",
        "    def __init__(self, n, m = 1):\n",
        "        self.n = n\n",
        "        self.m = m\n",
        "        self.normalize()\n",
        "    def normalize(self):\n",
        "        if self.n == 0: \n",
        "            self.m = 1\n",
        "            return\n",
        "        if self.m < 0:\n",
        "            self.n *= -1\n",
        "            self.m *= -1\n",
        "        gcd = get_gcd(abs(self.n), self.m)\n",
        "        self.n //= gcd\n",
        "        self.m //= gcd\n",
        "    def __str__(self):\n",
        "        return f\"{self.n}/{self.m}\"\n",
        "    def show(self, up = False):\n",
        "        if up == False:\n",
        "          if self.m == 1:\n",
        "              out = f\"{self.n}\"\n",
        "          elif self.n > 0:\n",
        "              out = f\"\\\\dfrac{{{self.n}}}{{{self.m}}}\"\n",
        "          else:\n",
        "              out = f\"-\\\\dfrac{{{-self.n}}}{{{self.m}}}\"\n",
        "          display(Math(out))\n",
        "        else:\n",
        "          if self.m == 1:\n",
        "              out = f\"{self.n}\"\n",
        "          elif self.n > 0:\n",
        "              mass = self.mix()\n",
        "              if(mass[0]) == 0:\n",
        "                out = f\"\\\\dfrac{{{self.n}}}{{{self.m}}}\"\n",
        "              else:\n",
        "                out = f\"{mass[0]}\\\\dfrac{{{mass[1].n}}}{{{self.m}}}\"\n",
        "          else:\n",
        "            mass = self.mix()\n",
        "            if(mass[0]) == 0:\n",
        "              out = f\"-\\\\dfrac{{{-self.n}}}{{{self.m}}}\"\n",
        "            else:\n",
        "                out = f\"{mass[0]}\\\\dfrac{{{mass[1].n}}}{{{self.m}}}\"\n",
        "          display(Math(out))\n",
        "    def __eq__(self, q):\n",
        "        return self.n == q.n and self.m == q.m\n",
        "    def __add__(self, q):\n",
        "        n = self.n * q.m + self.m * q.n\n",
        "        m = self.m * q.m\n",
        "        return Rational(n, m)\n",
        "    def __truediv__(self, q):\n",
        "        if q.n == 0:\n",
        "            raise ZeroDivisionError(\"division rational number by zero\")\n",
        "        n = self.n * q.m\n",
        "        m = self.m * q.n\n",
        "        return Rational(n, m)\n",
        "    def __float__(self):\n",
        "        return self.n / self.m\n",
        "    def __pow__(self, q):\n",
        "      return Rational(self.n**q, self.m**q)\n",
        "    def __sub__(self, q):\n",
        "      n = self.n * q.m - self.m * q.n\n",
        "      m = self.m * q.m\n",
        "      return Rational(n, m)\n",
        "    def __mul__(self,q):\n",
        "      return Rational(self.n * q.n, self.m * q.m)\n",
        "    def __rpow__(self, q):\n",
        "      return Rational(self.n**q, self.m**q)\n",
        "    def __rsub__(self, q):\n",
        "      n = self.n * q.m - self.m * q.n\n",
        "      m = self.m * q.m\n",
        "      return Rational(n, m)\n",
        "    def __rmul__(self,q):\n",
        "      return Rational(self.n * q.n, self.m * q.m)\n",
        "    def __radd__(self, q):\n",
        "        n = self.n * q.m + self.m * q.n\n",
        "        m = self.m * q.m\n",
        "        return Rational(n, m)\n",
        "    def __rtruediv__(self, q):\n",
        "        if q.n == 0:\n",
        "            raise ZeroDivisionError(\"division rational number by zero\")\n",
        "        n = self.n * q.m\n",
        "        m = self.m * q.n\n",
        "        return Rational(n, m)\n",
        "    def __isub__(self, q):\n",
        "      n = self.n * q.m - self.m * q.n\n",
        "      m = self.m * q.m\n",
        "      return Rational(n, m)\n",
        "    def __imul__(self,q):\n",
        "      return Rational(self.n * q.n, self.m * q.m)\n",
        "    def __iadd__(self, q):\n",
        "        n = self.n * q.m + self.m * q.n\n",
        "        m = self.m * q.m\n",
        "        return Rational(n, m)\n",
        "    def __itruediv__(self, q):\n",
        "        if q.n == 0:\n",
        "            raise ZeroDivisionError(\"division rational number by zero\")\n",
        "        n = self.n * q.m\n",
        "        m = self.m * q.n\n",
        "        return Rational(n, m)\n",
        "    def __neg__(self):\n",
        "      return Rational(self.n - self.m, self.m)\n",
        "    def __abs__(self):\n",
        "      return Rational(abs(self.n), self.m)\n",
        "    def __lt__(self, q):\n",
        "      return self.n * q.m < self.m * q.n\n",
        "    def __le__(self, q):\n",
        "      return self.n * q.m <= self.m * q.n\n",
        "    def __gt__(self, q):\n",
        "      return self.n * q.m > self.m * q.n\n",
        "    def __ge__(self, q):\n",
        "      return self.n * q.m >= self.m * q.n\n",
        "    def __ne__(self, q):\n",
        "      return self.n != q.n or self.m != q.m\n",
        "    def evalf(self):\n",
        "      return self.n / self.m\n",
        "    def mix(self):\n",
        "      a = []\n",
        "      if self.n < 0:\n",
        "        n = -(abs(self.n) // self.m)\n",
        "        \n",
        "      else:\n",
        "        n = self.n // self.m\n",
        "      newN = abs(self.n) % self.m\n",
        "      a.append(n)\n",
        "      a.append(Rational(newN,self.m))\n",
        "      return a\n",
        "def get_gcd(n, m):\n",
        "    while m > 0:\n",
        "        n, m = m, n % m\n",
        "    return n"
      ]
    },
    {
      "cell_type": "code",
      "source": [
        "a = Rational(2,3)\n",
        "a.show()\n",
        "b = a**2\n",
        "b.show()\n",
        "c= a - b\n",
        "c.show()\n",
        "c = a*b\n",
        "c.show()\n",
        "a *= b\n",
        "a.show()\n",
        "d = -a\n",
        "d.show()\n",
        "e = abs(d)\n",
        "e.show()\n",
        "f = Rational(20,5)\n",
        "f.show()\n",
        "\n",
        "a = Rational(2,3)\n",
        "b = a**2\n",
        "\n",
        "a =Rational(-5,3)\n",
        "a.show()\n",
        "\n",
        "a.show(True)\n",
        "float(a)"
      ],
      "metadata": {
        "colab": {
          "base_uri": "https://localhost:8080/",
          "height": 361
        },
        "id": "DTKwK-iKMubG",
        "outputId": "bd944e14-3c22-4b04-d0d0-132b028c93ae"
      },
      "execution_count": 30,
      "outputs": [
        {
          "output_type": "display_data",
          "data": {
            "text/plain": [
              "<IPython.core.display.Math object>"
            ],
            "text/latex": "$\\displaystyle \\dfrac{2}{3}$"
          },
          "metadata": {}
        },
        {
          "output_type": "display_data",
          "data": {
            "text/plain": [
              "<IPython.core.display.Math object>"
            ],
            "text/latex": "$\\displaystyle \\dfrac{4}{9}$"
          },
          "metadata": {}
        },
        {
          "output_type": "display_data",
          "data": {
            "text/plain": [
              "<IPython.core.display.Math object>"
            ],
            "text/latex": "$\\displaystyle \\dfrac{2}{9}$"
          },
          "metadata": {}
        },
        {
          "output_type": "display_data",
          "data": {
            "text/plain": [
              "<IPython.core.display.Math object>"
            ],
            "text/latex": "$\\displaystyle \\dfrac{8}{27}$"
          },
          "metadata": {}
        },
        {
          "output_type": "display_data",
          "data": {
            "text/plain": [
              "<IPython.core.display.Math object>"
            ],
            "text/latex": "$\\displaystyle \\dfrac{8}{27}$"
          },
          "metadata": {}
        },
        {
          "output_type": "display_data",
          "data": {
            "text/plain": [
              "<IPython.core.display.Math object>"
            ],
            "text/latex": "$\\displaystyle -\\dfrac{19}{27}$"
          },
          "metadata": {}
        },
        {
          "output_type": "display_data",
          "data": {
            "text/plain": [
              "<IPython.core.display.Math object>"
            ],
            "text/latex": "$\\displaystyle \\dfrac{19}{27}$"
          },
          "metadata": {}
        },
        {
          "output_type": "display_data",
          "data": {
            "text/plain": [
              "<IPython.core.display.Math object>"
            ],
            "text/latex": "$\\displaystyle 4$"
          },
          "metadata": {}
        },
        {
          "output_type": "display_data",
          "data": {
            "text/plain": [
              "<IPython.core.display.Math object>"
            ],
            "text/latex": "$\\displaystyle -\\dfrac{5}{3}$"
          },
          "metadata": {}
        },
        {
          "output_type": "display_data",
          "data": {
            "text/plain": [
              "<IPython.core.display.Math object>"
            ],
            "text/latex": "$\\displaystyle -1\\dfrac{2}{3}$"
          },
          "metadata": {}
        },
        {
          "output_type": "execute_result",
          "data": {
            "text/plain": [
              "-1.6666666666666667"
            ]
          },
          "metadata": {},
          "execution_count": 30
        }
      ]
    },
    {
      "cell_type": "code",
      "source": [],
      "metadata": {
        "id": "c7CNoQvoaj8S"
      },
      "execution_count": 30,
      "outputs": []
    }
  ]
}