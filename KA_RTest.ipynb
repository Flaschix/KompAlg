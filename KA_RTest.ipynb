{
  "nbformat": 4,
  "nbformat_minor": 0,
  "metadata": {
    "colab": {
      "provenance": [],
      "authorship_tag": "ABX9TyMwM9h4re/D8qkI0J+h0o2l",
      "include_colab_link": true
    },
    "kernelspec": {
      "name": "python3",
      "display_name": "Python 3"
    },
    "language_info": {
      "name": "python"
    }
  },
  "cells": [
    {
      "cell_type": "markdown",
      "metadata": {
        "id": "view-in-github",
        "colab_type": "text"
      },
      "source": [
        "<a href=\"https://colab.research.google.com/github/Flaschix/KompAlg/blob/main/KA_RTest.ipynb\" target=\"_parent\"><img src=\"https://colab.research.google.com/assets/colab-badge.svg\" alt=\"Open In Colab\"/></a>"
      ]
    },
    {
      "cell_type": "code",
      "execution_count": 14,
      "metadata": {
        "colab": {
          "base_uri": "https://localhost:8080/",
          "height": 54
        },
        "id": "ZicR9OQUMuxZ",
        "outputId": "d73b381b-eb68-4acc-ec87-07774eb0eb98"
      },
      "outputs": [
        {
          "output_type": "execute_result",
          "data": {
            "text/plain": [
              "x**3/3 + x**2/2 + x"
            ],
            "text/latex": "$\\displaystyle \\frac{x^{3}}{3} + \\frac{x^{2}}{2} + x$"
          },
          "metadata": {},
          "execution_count": 14
        }
      ],
      "source": [
        "from sympy import *\n",
        "x = Symbol('x')\n",
        "integrate(x**2 + x + 1, x)\n"
      ]
    },
    {
      "cell_type": "code",
      "source": [
        "integrate(x**5 + 2*x + 1, x)"
      ],
      "metadata": {
        "id": "MrWtJjDhRA7V",
        "outputId": "e87a73e9-74a2-496f-848e-f36820334eba",
        "colab": {
          "base_uri": "https://localhost:8080/",
          "height": 54
        }
      },
      "execution_count": 15,
      "outputs": [
        {
          "output_type": "execute_result",
          "data": {
            "text/plain": [
              "x**6/6 + x**2 + x"
            ],
            "text/latex": "$\\displaystyle \\frac{x^{6}}{6} + x^{2} + x$"
          },
          "metadata": {},
          "execution_count": 15
        }
      ]
    }
  ]
}